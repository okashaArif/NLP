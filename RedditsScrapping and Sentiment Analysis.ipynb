{
  "nbformat": 4,
  "nbformat_minor": 0,
  "metadata": {
    "colab": {
      "provenance": []
    },
    "kernelspec": {
      "name": "python3",
      "display_name": "Python 3"
    },
    "language_info": {
      "name": "python"
    }
  },
  "cells": [
    {
      "cell_type": "code",
      "source": [
        "!pip install praw\n",
        "import praw"
      ],
      "metadata": {
        "colab": {
          "base_uri": "https://localhost:8080/"
        },
        "id": "Qdu4VvqqG7tG",
        "outputId": "390bdfdd-1777-46cf-9370-2c4dd5d9241b"
      },
      "execution_count": null,
      "outputs": [
        {
          "output_type": "stream",
          "name": "stdout",
          "text": [
            "Requirement already satisfied: praw in /usr/local/lib/python3.10/dist-packages (7.7.1)\n",
            "Requirement already satisfied: prawcore<3,>=2.1 in /usr/local/lib/python3.10/dist-packages (from praw) (2.4.0)\n",
            "Requirement already satisfied: update-checker>=0.18 in /usr/local/lib/python3.10/dist-packages (from praw) (0.18.0)\n",
            "Requirement already satisfied: websocket-client>=0.54.0 in /usr/local/lib/python3.10/dist-packages (from praw) (1.8.0)\n",
            "Requirement already satisfied: requests<3.0,>=2.6.0 in /usr/local/lib/python3.10/dist-packages (from prawcore<3,>=2.1->praw) (2.31.0)\n",
            "Requirement already satisfied: charset-normalizer<4,>=2 in /usr/local/lib/python3.10/dist-packages (from requests<3.0,>=2.6.0->prawcore<3,>=2.1->praw) (3.3.2)\n",
            "Requirement already satisfied: idna<4,>=2.5 in /usr/local/lib/python3.10/dist-packages (from requests<3.0,>=2.6.0->prawcore<3,>=2.1->praw) (3.7)\n",
            "Requirement already satisfied: urllib3<3,>=1.21.1 in /usr/local/lib/python3.10/dist-packages (from requests<3.0,>=2.6.0->prawcore<3,>=2.1->praw) (2.0.7)\n",
            "Requirement already satisfied: certifi>=2017.4.17 in /usr/local/lib/python3.10/dist-packages (from requests<3.0,>=2.6.0->prawcore<3,>=2.1->praw) (2024.2.2)\n"
          ]
        }
      ]
    },
    {
      "cell_type": "code",
      "source": [
        "reddit = praw.Reddit(\n",
        "        client_id='PHJIXG6KR-wwnJ3g_u3ZPw',\n",
        "        client_secret='R_3A6PyieTp_KZF1LJ_MvEWLL17Yww',\n",
        "        redirect_uri='http://localhost:8080',\n",
        "        user_agent='Scraper 1.0 by /u/ch_waleeed'\n",
        "    )\n",
        "\n",
        "subreddit = reddit.subreddit('india')\n",
        "hot_posts = subreddit.hot(limit=20)\n",
        "\n",
        "# Create empty lists to store data\n",
        "titles = []\n",
        "authors = []\n",
        "scores = []\n",
        "contents = []\n",
        "urls = []\n",
        "num_comments = []\n",
        "\n",
        "# Loop through hot posts and collect data\n",
        "for post in hot_posts:\n",
        "  titles.append(post.title)\n",
        "  authors.append(post.author)\n",
        "  scores.append(post.score)\n",
        "  contents.append(post.selftext)\n",
        "  urls.append(post.url)\n",
        "  num_comments.append(post.num_comments)\n",
        "\n",
        "# Create a dictionary with data\n",
        "data_dict = {\n",
        "  'Title': titles,\n",
        "  'Author': authors,\n",
        "  'Score': scores,\n",
        "  'Content': contents,\n",
        "  'URL': urls,\n",
        "  'Number of Comments': num_comments\n",
        "}\n",
        "\n"
      ],
      "metadata": {
        "colab": {
          "base_uri": "https://localhost:8080/"
        },
        "id": "LaqXbnUjSBg5",
        "outputId": "c8a51112-d512-4c7c-f610-118df17f4b91"
      },
      "execution_count": null,
      "outputs": [
        {
          "output_type": "stream",
          "name": "stderr",
          "text": [
            "WARNING:praw:It appears that you are using PRAW in an asynchronous environment.\n",
            "It is strongly recommended to use Async PRAW: https://asyncpraw.readthedocs.io.\n",
            "See https://praw.readthedocs.io/en/latest/getting_started/multiple_instances.html#discord-bots-and-asynchronous-environments for more info.\n",
            "\n"
          ]
        }
      ]
    },
    {
      "cell_type": "code",
      "source": [
        "data_dict['Content'][0]"
      ],
      "metadata": {
        "colab": {
          "base_uri": "https://localhost:8080/",
          "height": 52
        },
        "id": "q7MP0cerSYBR",
        "outputId": "cc4aa512-6c4c-4d86-cb50-9e3b6c057443"
      },
      "execution_count": null,
      "outputs": [
        {
          "output_type": "execute_result",
          "data": {
            "text/plain": [
              "\"Welcome to r/India's Ask India Thread. \\n\\nIf you have any queries about life in India (or life as Indians), this is the thread for you. \\n\\nPlease keep in mind the following rules:\\n\\n* Top level comments are reserved for queries.\\n* No political posts.\\n* Relationship queries belong in /r/RelationshipIndia.\\n* Please try to search the internet before asking for help. Sometimes the answer is just an internet search away. :) \\n\\n[Older Threads](https://www.reddit.com/r/india/search?q=%22Ask+India+Thread%22+flair%3AScheduled&restrict_sr=on&include_over_18=on&sort=new&t=all)\""
            ],
            "application/vnd.google.colaboratory.intrinsic+json": {
              "type": "string"
            }
          },
          "metadata": {},
          "execution_count": 12
        }
      ]
    },
    {
      "cell_type": "code",
      "source": [
        "import pandas as pd\n",
        "import nltk\n",
        "from nltk.sentiment.vader import SentimentIntensityAnalyzer\n",
        "import seaborn as sns\n",
        "import matplotlib.pyplot as plt\n",
        "# Create a DataFrame from the data dictionary\n",
        "df = pd.DataFrame(data_dict)\n",
        "\n",
        "# Perform sentiment analysis using NLTK's SentimentIntensityAnalyzer\n",
        "nltk.download('vader_lexicon')\n",
        "sia = SentimentIntensityAnalyzer()\n",
        "df['Sentiment Score'] = df['Content'].apply(lambda x: sia.polarity_scores(x)['compound'])\n",
        "df['Sentiment Label'] = df['Sentiment Score'].apply(lambda x: 'Positive' if x > 0 else ('Negative' if x < 0 else 'Neutral'))\n",
        "\n"
      ],
      "metadata": {
        "colab": {
          "base_uri": "https://localhost:8080/"
        },
        "id": "6DKUg9e0SjEH",
        "outputId": "02c2e967-6580-4896-eccb-26c9a51d4c30"
      },
      "execution_count": null,
      "outputs": [
        {
          "output_type": "stream",
          "name": "stderr",
          "text": [
            "INFO:numexpr.utils:NumExpr defaulting to 2 threads.\n",
            "[nltk_data] Downloading package vader_lexicon to /root/nltk_data...\n",
            "[nltk_data]   Package vader_lexicon is already up-to-date!\n"
          ]
        }
      ]
    },
    {
      "cell_type": "code",
      "source": [
        "positive = df[df['Sentiment Label'] == 'Positive'].shape[0]\n",
        "negative = df[df['Sentiment Label'] == 'Negative'].shape[0]\n",
        "neutral = df[df['Sentiment Label'] == 'Neutral'].shape[0]\n"
      ],
      "metadata": {
        "id": "gvYOPm1SS_wZ"
      },
      "execution_count": null,
      "outputs": []
    },
    {
      "cell_type": "code",
      "source": [
        "positive\n",
        "negative\n",
        "neutral\n"
      ],
      "metadata": {
        "colab": {
          "base_uri": "https://localhost:8080/"
        },
        "id": "WjObSdktsPiv",
        "outputId": "5d778b2c-c3ba-4aee-8898-79f0e765de6c"
      },
      "execution_count": null,
      "outputs": [
        {
          "output_type": "execute_result",
          "data": {
            "text/plain": [
              "12"
            ]
          },
          "metadata": {},
          "execution_count": 38
        }
      ]
    },
    {
      "cell_type": "code",
      "source": [
        "!pip install ntscraper"
      ],
      "metadata": {
        "colab": {
          "base_uri": "https://localhost:8080/"
        },
        "id": "or14gaYhUtf9",
        "outputId": "35a9522e-ecbd-4a0c-92cd-70eecb6cc92a"
      },
      "execution_count": null,
      "outputs": [
        {
          "output_type": "stream",
          "name": "stdout",
          "text": [
            "Requirement already satisfied: ntscraper in /usr/local/lib/python3.10/dist-packages (0.3.13)\n",
            "Requirement already satisfied: requests in /usr/local/lib/python3.10/dist-packages (from ntscraper) (2.31.0)\n",
            "Requirement already satisfied: beautifulsoup4 in /usr/local/lib/python3.10/dist-packages (from ntscraper) (4.12.3)\n",
            "Requirement already satisfied: lxml in /usr/local/lib/python3.10/dist-packages (from ntscraper) (4.9.4)\n",
            "Requirement already satisfied: soupsieve>1.2 in /usr/local/lib/python3.10/dist-packages (from beautifulsoup4->ntscraper) (2.5)\n",
            "Requirement already satisfied: charset-normalizer<4,>=2 in /usr/local/lib/python3.10/dist-packages (from requests->ntscraper) (3.3.2)\n",
            "Requirement already satisfied: idna<4,>=2.5 in /usr/local/lib/python3.10/dist-packages (from requests->ntscraper) (3.7)\n",
            "Requirement already satisfied: urllib3<3,>=1.21.1 in /usr/local/lib/python3.10/dist-packages (from requests->ntscraper) (2.0.7)\n",
            "Requirement already satisfied: certifi>=2017.4.17 in /usr/local/lib/python3.10/dist-packages (from requests->ntscraper) (2024.2.2)\n"
          ]
        }
      ]
    },
    {
      "cell_type": "code",
      "source": [
        "from ntscraper import Nitter"
      ],
      "metadata": {
        "id": "-idnXu1ZXAwk"
      },
      "execution_count": null,
      "outputs": []
    },
    {
      "cell_type": "code",
      "source": [
        "scraper=Nitter()"
      ],
      "metadata": {
        "colab": {
          "base_uri": "https://localhost:8080/"
        },
        "id": "ZU0ivEzmbOer",
        "outputId": "96cab73c-c4fe-40ca-8eca-ba1b459928b0"
      },
      "execution_count": null,
      "outputs": [
        {
          "output_type": "stream",
          "name": "stderr",
          "text": [
            "Testing instances: 100%|██████████| 77/77 [01:14<00:00,  1.03it/s]\n"
          ]
        }
      ]
    },
    {
      "cell_type": "code",
      "source": [
        "hot_posts=scraper.get_tweets(\"ElonMusk\",mode=\"user\" ,number=5)"
      ],
      "metadata": {
        "colab": {
          "base_uri": "https://localhost:8080/"
        },
        "id": "9ltu0Qp7bw26",
        "outputId": "7f37a161-e2dd-4722-c155-71ed7f6acb1f"
      },
      "execution_count": null,
      "outputs": [
        {
          "output_type": "stream",
          "name": "stderr",
          "text": [
            "INFO:root:No instance specified, using random instance https://nitter.privacydev.net\n",
            "WARNING:root:Empty page on https://nitter.privacydev.net\n"
          ]
        }
      ]
    },
    {
      "cell_type": "code",
      "source": [
        "contents = []\n",
        "# Loop through hot posts and collect data\n",
        "for post in hot_posts['tweets']:\n",
        "  contents.append(post['text'])"
      ],
      "metadata": {
        "id": "wkk7CD7BvJ8f"
      },
      "execution_count": null,
      "outputs": []
    },
    {
      "cell_type": "code",
      "source": [
        "data_dict = {\n",
        "    'Content': contents,\n",
        "    }"
      ],
      "metadata": {
        "id": "hQ5h7E76vYuB"
      },
      "execution_count": null,
      "outputs": []
    }
  ]
}